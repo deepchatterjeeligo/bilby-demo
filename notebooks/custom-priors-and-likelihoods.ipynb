{
 "cells": [
  {
   "cell_type": "code",
   "execution_count": 1,
   "metadata": {},
   "outputs": [],
   "source": [
    "import numpy as np\n",
    "from bilby.core.prior import Prior\n",
    "\n",
    "from matplotlib import pyplot as plt"
   ]
  },
  {
   "cell_type": "markdown",
   "metadata": {},
   "source": [
    "### Customizing priors\n",
    "Derive from `Prior`, and override `prob`, `ln_prob`, and `rescale`"
   ]
  },
  {
   "cell_type": "markdown",
   "metadata": {},
   "source": [
    "Example, \n",
    "\\begin{align}\n",
    "p(x) =\n",
    "    \\begin{cases} \n",
    "        \\frac{1}{2}\\frac{e^x - e^{-a}}{1 - e^{-a}} & ; x \\leq 0 \\\\\n",
    "        \\frac{1}{2} + \\frac{1}{2}\\frac{1 - e^{-x}}{1 - e^{-a}}& ; x > 0\n",
    "    \\end{cases} \n",
    "\\end{align}"
   ]
  },
  {
   "cell_type": "code",
   "execution_count": 2,
   "metadata": {},
   "outputs": [],
   "source": [
    "class MyAbsExponentialPrior(Prior):\n",
    "    def __init__(self, *args, **kwargs):\n",
    "        kwargs['maximum'] = 2\n",
    "        kwargs['minimum'] = -kwargs['maximum']\n",
    "        super().__init__(*args, **kwargs)\n",
    "\n",
    "    def prob(self, val):\n",
    "        _exp_minus_a = np.exp(-self.maximum)\n",
    "        _norm = 2*(1 - _exp_minus_a)\n",
    "        res = np.exp(-np.abs(val))/_norm\n",
    "        if hasattr(val, 'size') and val.size > 1:  # is an array\n",
    "            res[np.abs(val) > self.maximum] = 0.\n",
    "        else:\n",
    "            res = 0. if abs(val) > self.maximum else res\n",
    "        return res\n",
    "\n",
    "    def ln_prob(self, val):\n",
    "        res = -np.abs(val)\n",
    "        if hasattr(val, 'size') and val.size > 1:  # is an array\n",
    "            res[np.abs(val) > self.maximum] = -np.inf\n",
    "        else:\n",
    "            res = -np.inf if abs(val) > self.maximum else res\n",
    "        return res\n",
    "\n",
    "    def rescale(self, val):\n",
    "        self.test_valid_for_rescaling(val)\n",
    "        neg_val_mask = val < 0.5\n",
    "        pos_val_mask = val > 0.5\n",
    "        _exp_minus_a = np.exp(-self.maximum)\n",
    "        _norm = 2*(1 - _exp_minus_a)\n",
    "\n",
    "        if not hasattr(val, 'size') or val.size==1:\n",
    "            return np.log(_norm * val + _exp_minus_a) \\\n",
    "                if neg_val_mask else -np.log(1. - (val - 0.5)*_norm)\n",
    "\n",
    "        neg_vals = val[neg_val_mask]\n",
    "        pos_vals = val[pos_val_mask]\n",
    "\n",
    "        res = np.empty(val.size)\n",
    "\n",
    "        res[neg_val_mask] = np.log(_norm * neg_vals + _exp_minus_a)\n",
    "        res[pos_val_mask] = -np.log(1. - (pos_vals - 0.5)*_norm)\n",
    "        return res"
   ]
  },
  {
   "cell_type": "code",
   "execution_count": 3,
   "metadata": {},
   "outputs": [
    {
     "data": {
      "text/plain": [
       "Text(0.5, 0, 'x')"
      ]
     },
     "execution_count": 3,
     "metadata": {},
     "output_type": "execute_result"
    },
    {
     "data": {
      "image/png": "[encoded data removed]",
      "text/plain": [
       "<Figure size 432x288 with 2 Axes>"
      ]
     },
     "metadata": {
      "needs_background": "light"
     },
     "output_type": "display_data"
    }
   ],
   "source": [
    "my_prior_instance = MyAbsExponentialPrior()\n",
    "\n",
    "fig, (ax1, ax2) = plt.subplots(2, 1)\n",
    "x = np.linspace(-5, 5, 1000)\n",
    "y = my_prior_instance.prob(x)\n",
    "Y = my_prior_instance.cdf(x)\n",
    "ax1.plot(x, y)\n",
    "ax1.set_title(\"PDF\")\n",
    "ax2.plot(x, Y)\n",
    "ax2.set_title(\"CDF\")\n",
    "ax2.set_xlabel(\"x\")"
   ]
  },
  {
   "cell_type": "code",
   "execution_count": 4,
   "metadata": {},
   "outputs": [
    {
     "data": {
      "text/plain": [
       "Text(0.5, 0, 'x')"
      ]
     },
     "execution_count": 4,
     "metadata": {},
     "output_type": "execute_result"
    },
    {
     "data": {
      "image/png": "[encoded data removed]",
      "text/plain": [
       "<Figure size 432x288 with 1 Axes>"
      ]
     },
     "metadata": {
      "needs_background": "light"
     },
     "output_type": "display_data"
    }
   ],
   "source": [
    "samples = my_prior_instance.sample(10000)\n",
    "plt.hist(samples, bins=100)\n",
    "plt.xlabel('x')"
   ]
  },
  {
   "cell_type": "markdown",
   "metadata": {},
   "source": [
    "### Another example\n",
    "\n",
    "Prior on redshift for $z \\ll 1$\n",
    "\n",
    "\\begin{align}\n",
    "    p(z) \\propto z^2\n",
    "\\end{align}\n",
    "\n"
   ]
  },
  {
   "cell_type": "code",
   "execution_count": 5,
   "metadata": {},
   "outputs": [],
   "source": [
    "class ZSquaredPrior(Prior):\n",
    "    def prob(self, z):\n",
    "        norm = (1./3.) * (self.maximum**3 - self.minimum**3)\n",
    "        res = z**2 / norm\n",
    "        if not hasattr(z, 'size') or z.size==1:\n",
    "            return res if self.minimum <= z <= self.maximum else 0.\n",
    "        res[z <= self.minimum] = 0.\n",
    "        res[z >= self.maximum] = 0.\n",
    "        return res\n",
    "    \n",
    "    def rescale(self, p):\n",
    "        self.test_valid_for_rescaling(p)\n",
    "        norm = self.maximum**3 - self.minimum**3\n",
    "        res = np.cbrt(p * norm + self.minimum**3)\n",
    "        return res"
   ]
  },
  {
   "cell_type": "code",
   "execution_count": 6,
   "metadata": {},
   "outputs": [
    {
     "data": {
      "text/plain": [
       "Text(0.5, 0, 'z')"
      ]
     },
     "execution_count": 6,
     "metadata": {},
     "output_type": "execute_result"
    },
    {
     "data": {
      "image/png": "[encoded data removed]",
      "text/plain": [
       "<Figure size 432x288 with 2 Axes>"
      ]
     },
     "metadata": {
      "needs_background": "light"
     },
     "output_type": "display_data"
    }
   ],
   "source": [
    "z_squared_prior = ZSquaredPrior(minimum=1e-3, maximum=0.1)\n",
    "\n",
    "fig, (ax1, ax2) = plt.subplots(2, 1)\n",
    "x = np.linspace(0, 0.11, 100)\n",
    "y = z_squared_prior.prob(x)\n",
    "Y = z_squared_prior.cdf(x)\n",
    "ax1.plot(x, y)\n",
    "ax1.set_title(\"PDF\")\n",
    "ax2.plot(x, Y)\n",
    "ax2.set_title(\"CDF\")\n",
    "ax2.set_xlabel(\"z\")"
   ]
  },
  {
   "cell_type": "code",
   "execution_count": 7,
   "metadata": {},
   "outputs": [
    {
     "data": {
      "text/plain": [
       "Text(0.5, 0, 'Redshift Prior')"
      ]
     },
     "execution_count": 7,
     "metadata": {},
     "output_type": "execute_result"
    },
    {
     "data": {
      "image/png": "[encoded data removed]",
      "text/plain": [
       "<Figure size 432x288 with 1 Axes>"
      ]
     },
     "metadata": {
      "needs_background": "light"
     },
     "output_type": "display_data"
    }
   ],
   "source": [
    "z_vals = z_squared_prior.sample(10000)\n",
    "plt.hist(z_vals, bins=100)\n",
    "plt.xlabel('Redshift Prior')"
   ]
  },
  {
   "cell_type": "markdown",
   "metadata": {},
   "source": [
    "### Customizing likelihoods\n",
    "Base class `Likelihood`; 1D continuous case `Analytical1DLikelihood`\n",
    "\n",
    "\\begin{align}\n",
    "y = f(x) + n\n",
    "\\end{align}\n",
    "\n",
    "- Some $\\{y_i, x_i\\}$ is present\n",
    "- $f$ is the model `func`\n",
    "- $p(n)$ determines the likelihood function\n",
    "\n",
    "Example, say $p(n) \\sim e^{\\vert n \\vert}$:\n",
    "\\begin{align}\n",
    "    \\mathcal{L}({y_i, x_i}\\vert f) = \\frac{1}{2}\\exp\\left(\\vert y_i - x_i \\vert\\right)\n",
    "\\end{align}"
   ]
  },
  {
   "cell_type": "code",
   "execution_count": 8,
   "metadata": {},
   "outputs": [],
   "source": [
    "import bilby\n",
    "from bilby.core.likelihood import Analytical1DLikelihood\n",
    "from bilby.core.prior import DeltaFunction\n",
    "from scipy.special import gamma"
   ]
  },
  {
   "cell_type": "code",
   "execution_count": 9,
   "metadata": {},
   "outputs": [],
   "source": [
    "class MyExpLikelihood(Analytical1DLikelihood):\n",
    "    def log_likelihood(self):\n",
    "        log_l = np.sum(- (self.residual) - np.log(2))\n",
    "        return log_l"
   ]
  },
  {
   "cell_type": "code",
   "execution_count": 10,
   "metadata": {},
   "outputs": [],
   "source": [
    "def students_t_pdf(x, nu=1, mu=1, sig=1):\n",
    "    w = (x-mu)/sig\n",
    "    r = 1 + w**2/nu\n",
    "    r = np.power(r, -0.5*(nu+1))\n",
    "    r *= gamma(0.5*(nu + 1))/gamma(0.5*nu)\n",
    "    r /= sig*np.sqrt(np.pi * nu)\n",
    "    return r"
   ]
  },
  {
   "cell_type": "code",
   "execution_count": 11,
   "metadata": {},
   "outputs": [],
   "source": [
    "injection_parameters = dict(nu=1, mu=1, sig=1)\n",
    "x = np.linspace(-4, 4, 100)\n",
    "data = students_t_pdf(x, **injection_parameters) + np.random.normal(0, 0.1, x.size)"
   ]
  },
  {
   "cell_type": "code",
   "execution_count": 12,
   "metadata": {},
   "outputs": [
    {
     "data": {
      "text/plain": [
       "Text(0, 0.5, 'y')"
      ]
     },
     "execution_count": 12,
     "metadata": {},
     "output_type": "execute_result"
    },
    {
     "data": {
      "image/png": "[encoded data removed]",
      "text/plain": [
       "<Figure size 432x288 with 1 Axes>"
      ]
     },
     "metadata": {
      "needs_background": "light"
     },
     "output_type": "display_data"
    }
   ],
   "source": [
    "fig, ax = plt.subplots()\n",
    "ax.plot(x, data, 'o', label='$\\{x_i, y_i\\}$')\n",
    "ax.plot(x, students_t_pdf(x, **injection_parameters), '--r', label='f(x)')\n",
    "ax.legend()\n",
    "ax.set_xlabel('x')\n",
    "ax.set_ylabel('y')"
   ]
  },
  {
   "cell_type": "code",
   "execution_count": 13,
   "metadata": {},
   "outputs": [],
   "source": [
    "log_l = MyExpLikelihood(x, data, students_t_pdf)"
   ]
  },
  {
   "cell_type": "code",
   "execution_count": 14,
   "metadata": {},
   "outputs": [],
   "source": [
    "priors = dict()\n",
    "priors['mu'] = MyAbsExponentialPrior(name='mu', latex_label='m')\n",
    "priors['nu'] = DeltaFunction(3.0, name='nu', latex_label='n')\n",
    "priors['sig'] = DeltaFunction(1.0, name='sig', latex_label='s')"
   ]
  },
  {
   "cell_type": "code",
   "execution_count": 15,
   "metadata": {},
   "outputs": [
    {
     "name": "stderr",
     "output_type": "stream",
     "text": [
      "17:39 bilby INFO    : Running for label 'hopeless_student_t', output will be saved to './hopeless_student_t'\n",
      "17:39 bilby INFO    : Search parameters:\n",
      "17:39 bilby INFO    :   mu = MyAbsExponentialPrior()\n",
      "17:39 bilby INFO    :   nu = 3.0\n",
      "17:39 bilby INFO    :   sig = 1.0\n",
      "17:39 bilby INFO    : Single likelihood evaluation took 1.514e-04 s\n"
     ]
    },
    {
     "name": "stdout",
     "output_type": "stream",
     "text": [
      "\r",
      "0it [00:00, ?it/s]"
     ]
    },
    {
     "name": "stderr",
     "output_type": "stream",
     "text": [
      "17:39 bilby INFO    : Using sampler Dynesty with kwargs {'bound': 'multi', 'sample': 'rwalk', 'verbose': True, 'periodic': None, 'reflective': None, 'check_point_delta_t': 600, 'nlive': 100, 'first_update': None, 'walks': 100, 'npdim': None, 'rstate': None, 'queue_size': 4, 'pool': None, 'use_pool': None, 'live_points': None, 'logl_args': None, 'logl_kwargs': None, 'ptform_args': None, 'ptform_kwargs': None, 'enlarge': 1.5, 'bootstrap': None, 'vol_dec': 0.5, 'vol_check': 8.0, 'facc': 0.2, 'slices': 5, 'update_interval': 60, 'print_func': <bound method Dynesty._print_func of <bilby.core.sampler.dynesty.Dynesty object at 0x7f9723226240>>, 'dlogz': 0.1, 'maxiter': None, 'maxcall': None, 'logl_max': inf, 'add_live': True, 'print_progress': True, 'save_bounds': False, 'n_effective': None, 'maxmcmc': 5000, 'nact': 5}\n",
      "17:39 bilby INFO    : Checkpoint every check_point_delta_t = 600s\n",
      "17:39 bilby INFO    : Using dynesty version 1.0.1\n",
      "17:39 bilby INFO    : Generating initial points from the prior\n",
      "17:39 bilby INFO    : Finished generating points from prior\n",
      "17:39 bilby INFO    : Using the bilby-implemented rwalk sample method with ACT estimated walks\n",
      "17:39 bilby INFO    : Setting up multiproccesing pool with 4 processes.\n",
      "17:39 bilby INFO    : Reading resume file ./hopeless_student_t/hopeless_student_t_resume.pickle\n",
      "17:39 bilby INFO    : Resume file successfully loaded.\n"
     ]
    },
    {
     "name": "stdout",
     "output_type": "stream",
     "text": [
      "\r",
      "245it [00:00, 2314.06it/s, bound:0 nc:  1 ncall:1.2e+03 eff:20.0% logz=-67.89+/-0.05 dlogz:0.099>0.1]"
     ]
    },
    {
     "name": "stderr",
     "output_type": "stream",
     "text": [
      "17:39 bilby INFO    : Written checkpoint file ./hopeless_student_t/hopeless_student_t_resume.pickle\n",
      "17:39 bilby INFO    : Writing 123 current samples to ./hopeless_student_t/hopeless_student_t_samples.dat\n",
      "17:39 bilby INFO    : Starting to close worker pool.\n",
      "17:39 bilby INFO    : Finished closing worker pool.\n",
      "17:39 bilby INFO    : Sampling time: 0:00:00.278302\n",
      "17:39 bilby INFO    : Summary of results:\n",
      "nsamples: 345\n",
      "ln_noise_evidence:    nan\n",
      "ln_evidence: -67.795 +/-    nan\n",
      "ln_bayes_factor:    nan +/-    nan\n",
      "\n"
     ]
    },
    {
     "name": "stdout",
     "output_type": "stream",
     "text": [
      "\n",
      "\n"
     ]
    }
   ],
   "source": [
    "result = bilby.run_sampler(\n",
    "    likelihood=log_l, priors=priors, sampler='dynesty',\n",
    "    npoints=100, walks=100, npool=4, injection_parameters=injection_parameters,\n",
    "    outdir='./hopeless_student_t',\n",
    "    label='hopeless_student_t'\n",
    ")"
   ]
  },
  {
   "cell_type": "code",
   "execution_count": 16,
   "metadata": {},
   "outputs": [
    {
     "data": {
      "text/html": [
       "<div>\n",
       "<style scoped>\n",
       "    .dataframe tbody tr th:only-of-type {\n",
       "        vertical-align: middle;\n",
       "    }\n",
       "\n",
       "    .dataframe tbody tr th {\n",
       "        vertical-align: top;\n",
       "    }\n",
       "\n",
       "    .dataframe thead th {\n",
       "        text-align: right;\n",
       "    }\n",
       "</style>\n",
       "<table border=\"1\" class=\"dataframe\">\n",
       "  <thead>\n",
       "    <tr style=\"text-align: right;\">\n",
       "      <th></th>\n",
       "      <th>mu</th>\n",
       "      <th>nu</th>\n",
       "      <th>sig</th>\n",
       "      <th>log_likelihood</th>\n",
       "      <th>log_prior</th>\n",
       "    </tr>\n",
       "  </thead>\n",
       "  <tbody>\n",
       "    <tr>\n",
       "      <th>0</th>\n",
       "      <td>-1.993189</td>\n",
       "      <td>3.0</td>\n",
       "      <td>1.0</td>\n",
       "      <td>-68.254669</td>\n",
       "      <td>-1.993189</td>\n",
       "    </tr>\n",
       "    <tr>\n",
       "      <th>1</th>\n",
       "      <td>1.970888</td>\n",
       "      <td>3.0</td>\n",
       "      <td>1.0</td>\n",
       "      <td>-68.237836</td>\n",
       "      <td>-1.970888</td>\n",
       "    </tr>\n",
       "    <tr>\n",
       "      <th>2</th>\n",
       "      <td>1.970888</td>\n",
       "      <td>3.0</td>\n",
       "      <td>1.0</td>\n",
       "      <td>-68.237836</td>\n",
       "      <td>-1.970888</td>\n",
       "    </tr>\n",
       "    <tr>\n",
       "      <th>3</th>\n",
       "      <td>-1.901443</td>\n",
       "      <td>3.0</td>\n",
       "      <td>1.0</td>\n",
       "      <td>-68.188211</td>\n",
       "      <td>-1.901443</td>\n",
       "    </tr>\n",
       "    <tr>\n",
       "      <th>4</th>\n",
       "      <td>-1.901443</td>\n",
       "      <td>3.0</td>\n",
       "      <td>1.0</td>\n",
       "      <td>-68.188211</td>\n",
       "      <td>-1.901443</td>\n",
       "    </tr>\n",
       "  </tbody>\n",
       "</table>\n",
       "</div>"
      ],
      "text/plain": [
       "         mu   nu  sig  log_likelihood  log_prior\n",
       "0 -1.993189  3.0  1.0      -68.254669  -1.993189\n",
       "1  1.970888  3.0  1.0      -68.237836  -1.970888\n",
       "2  1.970888  3.0  1.0      -68.237836  -1.970888\n",
       "3 -1.901443  3.0  1.0      -68.188211  -1.901443\n",
       "4 -1.901443  3.0  1.0      -68.188211  -1.901443"
      ]
     },
     "execution_count": 16,
     "metadata": {},
     "output_type": "execute_result"
    }
   ],
   "source": [
    "result.posterior.head()"
   ]
  },
  {
   "cell_type": "code",
   "execution_count": 17,
   "metadata": {},
   "outputs": [
    {
     "data": {
      "text/plain": [
       "Text(0.5, 0, 'mu')"
      ]
     },
     "execution_count": 17,
     "metadata": {},
     "output_type": "execute_result"
    },
    {
     "data": {
      "image/png": "[encoded data removed]",
      "text/plain": [
       "<Figure size 432x288 with 1 Axes>"
      ]
     },
     "metadata": {
      "needs_background": "light"
     },
     "output_type": "display_data"
    }
   ],
   "source": [
    "result.posterior.mu.hist(bins=100)\n",
    "plt.xlabel('mu')"
   ]
  }
 ],
 "metadata": {
  "kernelspec": {
   "display_name": "Python 3",
   "language": "python",
   "name": "python3"
  },
  "language_info": {
   "codemirror_mode": {
    "name": "ipython",
    "version": 3
   },
   "file_extension": ".py",
   "mimetype": "text/x-python",
   "name": "python",
   "nbconvert_exporter": "python",
   "pygments_lexer": "ipython3",
   "version": "3.6.8"
  }
 },
 "nbformat": 4,
 "nbformat_minor": 2
}
